{
  "nbformat": 4,
  "nbformat_minor": 0,
  "metadata": {
    "colab": {
      "provenance": [],
      "authorship_tag": "ABX9TyNlRsuZSnlo7wAo/jgNHgOU",
      "include_colab_link": true
    },
    "kernelspec": {
      "name": "python3",
      "display_name": "Python 3"
    },
    "language_info": {
      "name": "python"
    }
  },
  "cells": [
    {
      "cell_type": "markdown",
      "metadata": {
        "id": "view-in-github",
        "colab_type": "text"
      },
      "source": [
        "<a href=\"https://colab.research.google.com/github/MusabDemirrr/support-vector-machine-building/blob/main/SupportVectorMachine.ipynb\" target=\"_parent\"><img src=\"https://colab.research.google.com/assets/colab-badge.svg\" alt=\"Open In Colab\"/></a>"
      ]
    },
    {
      "cell_type": "code",
      "source": [
        "import numpy as np"
      ],
      "metadata": {
        "id": "3ZpnMlqMmGOL"
      },
      "execution_count": 1,
      "outputs": []
    },
    {
      "cell_type": "code",
      "execution_count": 2,
      "metadata": {
        "id": "hrtMgSzmYWTE"
      },
      "outputs": [],
      "source": [
        "class SupportVectorMachine():\n",
        "  def __init__(self,learning_rate,epochs,lambda_paramater):\n",
        "\n",
        "    self.learning_rate = learning_rate\n",
        "    self.epochs = epochs\n",
        "    self.lambda_paramater = lambda_paramater\n",
        "\n",
        "  def train(self,X,Y):\n",
        "\n",
        "    self.number_of_data_points,self.number_of_features = X.shape\n",
        "\n",
        "    self.X = X\n",
        "    self.Y = Y\n",
        "\n",
        "    self.bias = 0\n",
        "    self.weights = np.zeros(self.number_of_features)\n",
        "\n",
        "    for _ in range(self.epochs):\n",
        "      self.update_weights()\n",
        "\n",
        "\n",
        "\n",
        "\n",
        "  def update_weights(self):\n",
        "    y_label = np.where(self.Y > 0,1,-1)\n",
        "\n",
        "    for index,x_i in enumerate(self.X):\n",
        "\n",
        "      if( y_label[index] * (x_i.dot(self.weights) - self.bias) >= 1 ):\n",
        "\n",
        "        dw = 2 * self.weights * self.lambda_paramater\n",
        "        db = 0\n",
        "\n",
        "      else:\n",
        "        dw = 2 * self.lambda_paramater * self.weights - np.dot(x_i,y_label[index])\n",
        "        db = y_label[index]\n",
        "\n",
        "      self.weights = self.weights - dw*self.learning_rate\n",
        "      self.bias = self.bias - db*self.learning_rate\n",
        "\n",
        "\n",
        "\n",
        "\n",
        "\n",
        "\n",
        "\n",
        "  def prediction(self,X):\n",
        "    result = X.dot(self.weights) - self.bias\n",
        "\n",
        "    y_hats = np.where(result >= 0 , 1,0)\n",
        "    return y_hats"
      ]
    }
  ]
}